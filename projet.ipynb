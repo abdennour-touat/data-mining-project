{
  "cells": [
    {
      "cell_type": "markdown",
      "metadata": {
        "id": "n2qwOB3BqIjc"
      },
      "source": [
        "# Projet Data Mining (part 1)"
      ]
    },
    {
      "cell_type": "markdown",
      "metadata": {
        "id": "RwWWuw2zqTP1"
      },
      "source": [
        "## 1. Analyse et prétraitement des données"
      ]
    },
    {
      "cell_type": "markdown",
      "metadata": {
        "id": "49wXaa83qbNO"
      },
      "source": [
        "### 1.1. Données statiques"
      ]
    },
    {
      "cell_type": "markdown",
      "metadata": {
        "id": "lMzop064qf6u"
      },
      "source": [
        "#### 1.1.1. Manipulation de dataset"
      ]
    },
    {
      "cell_type": "markdown",
      "metadata": {
        "id": "R_bsfbI3q5fT"
      },
      "source": [
        "Importation des librairies"
      ]
    },
    {
      "cell_type": "code",
      "execution_count": 2,
      "metadata": {
        "id": "MyjiVA1lpJZd"
      },
      "outputs": [],
      "source": [
        "import numpy as np\n",
        "import matplotlib.pyplot as plt\n",
        "import pandas as pd"
      ]
    },
    {
      "cell_type": "code",
      "execution_count": null,
      "metadata": {},
      "outputs": [],
      "source": []
    }
  ],
  "metadata": {
    "colab": {
      "provenance": []
    },
    "kernelspec": {
      "display_name": "Python 3",
      "name": "python3"
    },
    "language_info": {
      "codemirror_mode": {
        "name": "ipython",
        "version": 3
      },
      "file_extension": ".py",
      "mimetype": "text/x-python",
      "name": "python",
      "nbconvert_exporter": "python",
      "pygments_lexer": "ipython3",
      "version": "3.0.0"
    }
  },
  "nbformat": 4,
  "nbformat_minor": 0
}
